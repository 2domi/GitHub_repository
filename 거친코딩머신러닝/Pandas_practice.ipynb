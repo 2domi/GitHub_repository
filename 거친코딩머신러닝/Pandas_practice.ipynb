{
 "cells": [
  {
   "cell_type": "markdown",
   "id": "c4e6a1aa",
   "metadata": {},
   "source": [
    "# Pandas 데이터 불러오기 연습"
   ]
  },
  {
   "cell_type": "code",
   "execution_count": 2,
   "id": "87b9fd1f",
   "metadata": {},
   "outputs": [],
   "source": [
    "import os\n",
    "import pandas as pd"
   ]
  },
  {
   "cell_type": "markdown",
   "id": "ef3bc8dd",
   "metadata": {},
   "source": [
    "### C:\\Python_VSCode_Cursor\\XAU_1d_data.csv 경로에 있는 모든 파일"
   ]
  },
  {
   "cell_type": "code",
   "execution_count": 3,
   "id": "c8ab563a",
   "metadata": {},
   "outputs": [
    {
     "data": {
      "text/plain": [
       "['.git',\n",
       " '.vscode',\n",
       " 'ClickMacro.py',\n",
       " 'ML_Gold_Price.py',\n",
       " 'Selenium_practice.py',\n",
       " 'SnakeGame.py',\n",
       " 'WebScraping_practice',\n",
       " 'XAU_1d_data.csv',\n",
       " '거친코딩머신러닝',\n",
       " '나도코딩머신러닝']"
      ]
     },
     "execution_count": 3,
     "metadata": {},
     "output_type": "execute_result"
    }
   ],
   "source": [
    "os.listdir(r\"C:\\Python_VSCode_Cursor\")"
   ]
  },
  {
   "cell_type": "markdown",
   "id": "db5c68f5",
   "metadata": {},
   "source": [
    "### pandas 라이브러리를 이용해 파일 읽기(csv 파일)"
   ]
  },
  {
   "cell_type": "code",
   "execution_count": 4,
   "id": "d41ebbdc",
   "metadata": {},
   "outputs": [
    {
     "data": {
      "text/html": [
       "<div>\n",
       "<style scoped>\n",
       "    .dataframe tbody tr th:only-of-type {\n",
       "        vertical-align: middle;\n",
       "    }\n",
       "\n",
       "    .dataframe tbody tr th {\n",
       "        vertical-align: top;\n",
       "    }\n",
       "\n",
       "    .dataframe thead th {\n",
       "        text-align: right;\n",
       "    }\n",
       "</style>\n",
       "<table border=\"1\" class=\"dataframe\">\n",
       "  <thead>\n",
       "    <tr style=\"text-align: right;\">\n",
       "      <th></th>\n",
       "      <th>Date</th>\n",
       "      <th>Open</th>\n",
       "      <th>High</th>\n",
       "      <th>Low</th>\n",
       "      <th>Close</th>\n",
       "      <th>Volume</th>\n",
       "    </tr>\n",
       "  </thead>\n",
       "  <tbody>\n",
       "    <tr>\n",
       "      <th>0</th>\n",
       "      <td>2004.06.11</td>\n",
       "      <td>384.0</td>\n",
       "      <td>384.8</td>\n",
       "      <td>382.8</td>\n",
       "      <td>384.1</td>\n",
       "      <td>272</td>\n",
       "    </tr>\n",
       "    <tr>\n",
       "      <th>1</th>\n",
       "      <td>2004.06.14</td>\n",
       "      <td>384.3</td>\n",
       "      <td>385.8</td>\n",
       "      <td>381.8</td>\n",
       "      <td>382.8</td>\n",
       "      <td>1902</td>\n",
       "    </tr>\n",
       "    <tr>\n",
       "      <th>2</th>\n",
       "      <td>2004.06.15</td>\n",
       "      <td>382.8</td>\n",
       "      <td>388.8</td>\n",
       "      <td>381.1</td>\n",
       "      <td>388.6</td>\n",
       "      <td>1951</td>\n",
       "    </tr>\n",
       "    <tr>\n",
       "      <th>3</th>\n",
       "      <td>2004.06.16</td>\n",
       "      <td>387.1</td>\n",
       "      <td>389.8</td>\n",
       "      <td>382.6</td>\n",
       "      <td>383.8</td>\n",
       "      <td>2014</td>\n",
       "    </tr>\n",
       "    <tr>\n",
       "      <th>4</th>\n",
       "      <td>2004.06.17</td>\n",
       "      <td>383.6</td>\n",
       "      <td>389.3</td>\n",
       "      <td>383.0</td>\n",
       "      <td>387.6</td>\n",
       "      <td>1568</td>\n",
       "    </tr>\n",
       "  </tbody>\n",
       "</table>\n",
       "</div>"
      ],
      "text/plain": [
       "         Date   Open   High    Low  Close  Volume\n",
       "0  2004.06.11  384.0  384.8  382.8  384.1     272\n",
       "1  2004.06.14  384.3  385.8  381.8  382.8    1902\n",
       "2  2004.06.15  382.8  388.8  381.1  388.6    1951\n",
       "3  2004.06.16  387.1  389.8  382.6  383.8    2014\n",
       "4  2004.06.17  383.6  389.3  383.0  387.6    1568"
      ]
     },
     "execution_count": 4,
     "metadata": {},
     "output_type": "execute_result"
    }
   ],
   "source": [
    "df = pd.read_csv(\"C:\\Python_VSCode_Cursor/XAU_1d_data.csv\", encoding=\"utf8\")\n",
    "df.head(5) # 5개만 읽기"
   ]
  },
  {
   "cell_type": "markdown",
   "id": "000fa02a",
   "metadata": {},
   "source": [
    "### 파일 저장하기"
   ]
  },
  {
   "cell_type": "code",
   "execution_count": null,
   "id": "ae128a13",
   "metadata": {},
   "outputs": [],
   "source": [
    "df.to_csv(\"C:\\Python_VSCode_Cursor\\XAU_1d_data.csv\", \n",
    "          index=False, \n",
    "          encoding=\"utf8\")"
   ]
  },
  {
   "cell_type": "code",
   "execution_count": 6,
   "id": "354fba41",
   "metadata": {},
   "outputs": [
    {
     "data": {
      "text/html": [
       "<div>\n",
       "<style scoped>\n",
       "    .dataframe tbody tr th:only-of-type {\n",
       "        vertical-align: middle;\n",
       "    }\n",
       "\n",
       "    .dataframe tbody tr th {\n",
       "        vertical-align: top;\n",
       "    }\n",
       "\n",
       "    .dataframe thead th {\n",
       "        text-align: right;\n",
       "    }\n",
       "</style>\n",
       "<table border=\"1\" class=\"dataframe\">\n",
       "  <thead>\n",
       "    <tr style=\"text-align: right;\">\n",
       "      <th></th>\n",
       "      <th>Date</th>\n",
       "      <th>Open</th>\n",
       "      <th>High</th>\n",
       "      <th>Low</th>\n",
       "      <th>Close</th>\n",
       "      <th>Volume</th>\n",
       "    </tr>\n",
       "  </thead>\n",
       "  <tbody>\n",
       "    <tr>\n",
       "      <th>0</th>\n",
       "      <td>2004.06.11</td>\n",
       "      <td>384.00</td>\n",
       "      <td>384.80</td>\n",
       "      <td>382.80</td>\n",
       "      <td>384.10</td>\n",
       "      <td>272</td>\n",
       "    </tr>\n",
       "    <tr>\n",
       "      <th>1</th>\n",
       "      <td>2004.06.14</td>\n",
       "      <td>384.30</td>\n",
       "      <td>385.80</td>\n",
       "      <td>381.80</td>\n",
       "      <td>382.80</td>\n",
       "      <td>1902</td>\n",
       "    </tr>\n",
       "    <tr>\n",
       "      <th>2</th>\n",
       "      <td>2004.06.15</td>\n",
       "      <td>382.80</td>\n",
       "      <td>388.80</td>\n",
       "      <td>381.10</td>\n",
       "      <td>388.60</td>\n",
       "      <td>1951</td>\n",
       "    </tr>\n",
       "    <tr>\n",
       "      <th>3</th>\n",
       "      <td>2004.06.16</td>\n",
       "      <td>387.10</td>\n",
       "      <td>389.80</td>\n",
       "      <td>382.60</td>\n",
       "      <td>383.80</td>\n",
       "      <td>2014</td>\n",
       "    </tr>\n",
       "    <tr>\n",
       "      <th>4</th>\n",
       "      <td>2004.06.17</td>\n",
       "      <td>383.60</td>\n",
       "      <td>389.30</td>\n",
       "      <td>383.00</td>\n",
       "      <td>387.60</td>\n",
       "      <td>1568</td>\n",
       "    </tr>\n",
       "    <tr>\n",
       "      <th>...</th>\n",
       "      <td>...</td>\n",
       "      <td>...</td>\n",
       "      <td>...</td>\n",
       "      <td>...</td>\n",
       "      <td>...</td>\n",
       "      <td>...</td>\n",
       "    </tr>\n",
       "    <tr>\n",
       "      <th>5386</th>\n",
       "      <td>2025.06.02</td>\n",
       "      <td>3298.76</td>\n",
       "      <td>3382.86</td>\n",
       "      <td>3295.75</td>\n",
       "      <td>3380.64</td>\n",
       "      <td>461738</td>\n",
       "    </tr>\n",
       "    <tr>\n",
       "      <th>5387</th>\n",
       "      <td>2025.06.03</td>\n",
       "      <td>3383.51</td>\n",
       "      <td>3392.19</td>\n",
       "      <td>3333.08</td>\n",
       "      <td>3352.91</td>\n",
       "      <td>436080</td>\n",
       "    </tr>\n",
       "    <tr>\n",
       "      <th>5388</th>\n",
       "      <td>2025.06.04</td>\n",
       "      <td>3353.93</td>\n",
       "      <td>3384.64</td>\n",
       "      <td>3343.67</td>\n",
       "      <td>3372.25</td>\n",
       "      <td>420245</td>\n",
       "    </tr>\n",
       "    <tr>\n",
       "      <th>5389</th>\n",
       "      <td>2025.06.05</td>\n",
       "      <td>3373.34</td>\n",
       "      <td>3403.42</td>\n",
       "      <td>3339.43</td>\n",
       "      <td>3351.98</td>\n",
       "      <td>808095</td>\n",
       "    </tr>\n",
       "    <tr>\n",
       "      <th>5390</th>\n",
       "      <td>2025.06.06</td>\n",
       "      <td>3353.55</td>\n",
       "      <td>3369.26</td>\n",
       "      <td>3353.00</td>\n",
       "      <td>3368.94</td>\n",
       "      <td>120857</td>\n",
       "    </tr>\n",
       "  </tbody>\n",
       "</table>\n",
       "<p>5391 rows × 6 columns</p>\n",
       "</div>"
      ],
      "text/plain": [
       "            Date     Open     High      Low    Close  Volume\n",
       "0     2004.06.11   384.00   384.80   382.80   384.10     272\n",
       "1     2004.06.14   384.30   385.80   381.80   382.80    1902\n",
       "2     2004.06.15   382.80   388.80   381.10   388.60    1951\n",
       "3     2004.06.16   387.10   389.80   382.60   383.80    2014\n",
       "4     2004.06.17   383.60   389.30   383.00   387.60    1568\n",
       "...          ...      ...      ...      ...      ...     ...\n",
       "5386  2025.06.02  3298.76  3382.86  3295.75  3380.64  461738\n",
       "5387  2025.06.03  3383.51  3392.19  3333.08  3352.91  436080\n",
       "5388  2025.06.04  3353.93  3384.64  3343.67  3372.25  420245\n",
       "5389  2025.06.05  3373.34  3403.42  3339.43  3351.98  808095\n",
       "5390  2025.06.06  3353.55  3369.26  3353.00  3368.94  120857\n",
       "\n",
       "[5391 rows x 6 columns]"
      ]
     },
     "execution_count": 6,
     "metadata": {},
     "output_type": "execute_result"
    }
   ],
   "source": [
    "pd.read_csv(\"C:\\Python_VSCode_Cursor\\XAU_1d_data.csv\")"
   ]
  },
  {
   "cell_type": "code",
   "execution_count": 7,
   "id": "4a1014b6",
   "metadata": {},
   "outputs": [
    {
     "data": {
      "text/plain": [
       "['.git',\n",
       " '.vscode',\n",
       " 'ClickMacro.py',\n",
       " 'ML_Gold_Price.py',\n",
       " 'Selenium_practice.py',\n",
       " 'SnakeGame.py',\n",
       " 'WebScraping_practice',\n",
       " 'XAU_1d_data.csv',\n",
       " '거친코딩머신러닝',\n",
       " '나도코딩머신러닝']"
      ]
     },
     "execution_count": 7,
     "metadata": {},
     "output_type": "execute_result"
    }
   ],
   "source": [
    "os.listdir(\"C:\\Python_VSCode_Cursor\")"
   ]
  },
  {
   "cell_type": "markdown",
   "id": "64d2173b",
   "metadata": {},
   "source": [
    "# Series 연습"
   ]
  },
  {
   "cell_type": "code",
   "execution_count": 8,
   "id": "3edf239a",
   "metadata": {},
   "outputs": [],
   "source": [
    "import numpy as np"
   ]
  },
  {
   "cell_type": "markdown",
   "id": "ecf76a65",
   "metadata": {},
   "source": [
    "### Series()와 np.array()의 차이"
   ]
  },
  {
   "cell_type": "code",
   "execution_count": 12,
   "id": "45d28823",
   "metadata": {},
   "outputs": [
    {
     "name": "stdout",
     "output_type": "stream",
     "text": [
      "0    1\n",
      "1    2\n",
      "2    3\n",
      "dtype: int64\n"
     ]
    },
    {
     "data": {
      "text/plain": [
       "array([1, 2, 3])"
      ]
     },
     "execution_count": 12,
     "metadata": {},
     "output_type": "execute_result"
    }
   ],
   "source": [
    "print(pd.Series([1,2,3]))\n",
    "np.array([1,2,3])"
   ]
  },
  {
   "cell_type": "markdown",
   "id": "5bbac676",
   "metadata": {},
   "source": [
    "### 데이터프레임에서 컬럼명을 사용해 시리즈 생성"
   ]
  },
  {
   "cell_type": "code",
   "execution_count": 14,
   "id": "380de436",
   "metadata": {},
   "outputs": [
    {
     "data": {
      "text/plain": [
       "0        384.00\n",
       "1        384.30\n",
       "2        382.80\n",
       "3        387.10\n",
       "4        383.60\n",
       "         ...   \n",
       "5386    3298.76\n",
       "5387    3383.51\n",
       "5388    3353.93\n",
       "5389    3373.34\n",
       "5390    3353.55\n",
       "Name: Open, Length: 5391, dtype: float64"
      ]
     },
     "execution_count": 14,
     "metadata": {},
     "output_type": "execute_result"
    }
   ],
   "source": [
    "series = df[\"Open\"]\n",
    "series"
   ]
  },
  {
   "cell_type": "markdown",
   "id": "67d200b6",
   "metadata": {},
   "source": [
    "### 시리즈 생성(index, dtype 지정) dtype = 데이터의 타입 ex)float, int"
   ]
  },
  {
   "cell_type": "code",
   "execution_count": 19,
   "id": "e6bb112e",
   "metadata": {},
   "outputs": [
    {
     "data": {
      "text/plain": [
       "a    1.0\n",
       "b    2.0\n",
       "c    3.0\n",
       "d    4.0\n",
       "e    5.0\n",
       "dtype: float64"
      ]
     },
     "execution_count": 19,
     "metadata": {},
     "output_type": "execute_result"
    }
   ],
   "source": [
    "series = pd.Series(\n",
    "                    [1,2,3,4,5],\n",
    "                    index=[\"a\",\"b\",\"c\",\"d\",\"e\"],\n",
    "                    dtype=float\n",
    ")\n",
    "series"
   ]
  },
  {
   "cell_type": "markdown",
   "id": "8d50f4b2",
   "metadata": {},
   "source": [
    "### series 정렬하기"
   ]
  },
  {
   "cell_type": "code",
   "execution_count": 25,
   "id": "afa1187d",
   "metadata": {},
   "outputs": [
    {
     "name": "stdout",
     "output_type": "stream",
     "text": [
      "c     2.0\n",
      "b     3.0\n",
      "e     5.0\n",
      "d     6.0\n",
      "a    10.0\n",
      "dtype: float64\n",
      "a    10.0\n",
      "d     6.0\n",
      "e     5.0\n",
      "b     3.0\n",
      "c     2.0\n",
      "dtype: float64\n"
     ]
    }
   ],
   "source": [
    "series = pd.Series(\n",
    "                    [10,3,2,6,5],\n",
    "                    index=[\"a\",\"b\",\"c\",\"d\",\"e\"],\n",
    "                    dtype=float\n",
    ")\n",
    "print(series.sort_values(ascending=True)) # 오름차순(생략가능)\n",
    "print(series.sort_values(ascending=False)) # 내림차순"
   ]
  },
  {
   "cell_type": "markdown",
   "id": "e78d0b34",
   "metadata": {},
   "source": [
    "# DataFrame 연습"
   ]
  },
  {
   "cell_type": "markdown",
   "id": "9c74b0fb",
   "metadata": {},
   "source": [
    "### Dictionary 형태로 데이터프레임 생성(키:컬럼 , 값:데이터값)"
   ]
  },
  {
   "cell_type": "code",
   "execution_count": 26,
   "id": "80164d94",
   "metadata": {},
   "outputs": [
    {
     "data": {
      "text/html": [
       "<div>\n",
       "<style scoped>\n",
       "    .dataframe tbody tr th:only-of-type {\n",
       "        vertical-align: middle;\n",
       "    }\n",
       "\n",
       "    .dataframe tbody tr th {\n",
       "        vertical-align: top;\n",
       "    }\n",
       "\n",
       "    .dataframe thead th {\n",
       "        text-align: right;\n",
       "    }\n",
       "</style>\n",
       "<table border=\"1\" class=\"dataframe\">\n",
       "  <thead>\n",
       "    <tr style=\"text-align: right;\">\n",
       "      <th></th>\n",
       "      <th>이도</th>\n",
       "      <th>누나</th>\n",
       "    </tr>\n",
       "  </thead>\n",
       "  <tbody>\n",
       "    <tr>\n",
       "      <th>0</th>\n",
       "      <td>잘생김</td>\n",
       "      <td>못생김</td>\n",
       "    </tr>\n",
       "    <tr>\n",
       "      <th>1</th>\n",
       "      <td>천재</td>\n",
       "      <td>바보</td>\n",
       "    </tr>\n",
       "  </tbody>\n",
       "</table>\n",
       "</div>"
      ],
      "text/plain": [
       "    이도   누나\n",
       "0  잘생김  못생김\n",
       "1   천재   바보"
      ]
     },
     "execution_count": 26,
     "metadata": {},
     "output_type": "execute_result"
    }
   ],
   "source": [
    "df = pd.DataFrame({\"이도\":[\"잘생김\",\"천재\"],\"누나\":[\"못생김\",\"바보\"]})\n",
    "df"
   ]
  },
  {
   "cell_type": "markdown",
   "id": "6f299569",
   "metadata": {},
   "source": [
    "### List 형태로 데이터프레임 생성\n",
    "### (컬럼 따로 지정, 리스트 값들이 row로 저장)"
   ]
  },
  {
   "cell_type": "code",
   "execution_count": 29,
   "id": "8af168eb",
   "metadata": {},
   "outputs": [
    {
     "data": {
      "text/html": [
       "<div>\n",
       "<style scoped>\n",
       "    .dataframe tbody tr th:only-of-type {\n",
       "        vertical-align: middle;\n",
       "    }\n",
       "\n",
       "    .dataframe tbody tr th {\n",
       "        vertical-align: top;\n",
       "    }\n",
       "\n",
       "    .dataframe thead th {\n",
       "        text-align: right;\n",
       "    }\n",
       "</style>\n",
       "<table border=\"1\" class=\"dataframe\">\n",
       "  <thead>\n",
       "    <tr style=\"text-align: right;\">\n",
       "      <th></th>\n",
       "      <th>a</th>\n",
       "      <th>b</th>\n",
       "      <th>c</th>\n",
       "    </tr>\n",
       "  </thead>\n",
       "  <tbody>\n",
       "    <tr>\n",
       "      <th>가</th>\n",
       "      <td>2.0</td>\n",
       "      <td>10.0</td>\n",
       "      <td>20.0</td>\n",
       "    </tr>\n",
       "    <tr>\n",
       "      <th>나</th>\n",
       "      <td>3.0</td>\n",
       "      <td>15.0</td>\n",
       "      <td>45.0</td>\n",
       "    </tr>\n",
       "    <tr>\n",
       "      <th>다</th>\n",
       "      <td>6.0</td>\n",
       "      <td>7.0</td>\n",
       "      <td>42.0</td>\n",
       "    </tr>\n",
       "  </tbody>\n",
       "</table>\n",
       "</div>"
      ],
      "text/plain": [
       "     a     b     c\n",
       "가  2.0  10.0  20.0\n",
       "나  3.0  15.0  45.0\n",
       "다  6.0   7.0  42.0"
      ]
     },
     "execution_count": 29,
     "metadata": {},
     "output_type": "execute_result"
    }
   ],
   "source": [
    "df = pd.DataFrame([[2,10,20],[3,15,45],[6,7,42]],\n",
    "                  columns=[\"a\",\"b\",\"c\"],\n",
    "                  index=[\"가\",\"나\",\"다\"],\n",
    "                  dtype=float)\n",
    "df"
   ]
  }
 ],
 "metadata": {
  "kernelspec": {
   "display_name": "Python 3",
   "language": "python",
   "name": "python3"
  },
  "language_info": {
   "codemirror_mode": {
    "name": "ipython",
    "version": 3
   },
   "file_extension": ".py",
   "mimetype": "text/x-python",
   "name": "python",
   "nbconvert_exporter": "python",
   "pygments_lexer": "ipython3",
   "version": "3.11.9"
  }
 },
 "nbformat": 4,
 "nbformat_minor": 5
}
